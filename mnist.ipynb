{
 "cells": [
  {
   "cell_type": "markdown",
   "metadata": {},
   "source": [
    "Python import statements import libraries of ready-to-go capabilities"
   ]
  },
  {
   "cell_type": "code",
   "execution_count": null,
   "metadata": {},
   "outputs": [],
   "source": [
    "import random                    # so we can display random images from the dataset\n",
    "import tensorflow as tf          # tensorflow is a deep learning framework. 'tf' is a commonly-used nickname\n",
    "from tensorflow import keras     # tensorflow.keras offers higher-level control of common tensorflow tasks\n",
    "import numpy as np               # numpy is everything with arrays and matrices\n",
    "import matplotlib.pyplot as plt  # most common python graphing library"
   ]
  },
  {
   "cell_type": "markdown",
   "metadata": {},
   "source": [
    "The tensorflow keras library includes some datasets for training. The Modified National Institute of Standards and Technology (MNIST) dataset is 70000 images of handwritten numerical digits; each a 28x28 pixel image, and corresponding labels specifying the right answer for each.\n",
    "\n",
    "The dataset is pre-divided into 60000 images for training the neural network, and 10000 held back from the training set for independent testing."
   ]
  },
  {
   "cell_type": "code",
   "execution_count": null,
   "metadata": {},
   "outputs": [],
   "source": [
    "(train_images, train_labels), (test_images, test_labels) = keras.datasets.mnist.load_data()\n",
    "print(len(train_images), 'training images')\n",
    "print(len(test_images),  'test images')"
   ]
  },
  {
   "cell_type": "markdown",
   "metadata": {},
   "source": [
    "Just a little data prep here, we scale the pixel values from the range 0..255 to 0..1.0 (numpy makes it simple, every value in the 28x28 array gets scaled by the one divisor).\n",
    "class_names are string/text labels corresponding to the numerical labels."
   ]
  },
  {
   "cell_type": "code",
   "execution_count": null,
   "metadata": {},
   "outputs": [],
   "source": [
    "train_images = train_images / 255.0  # rescale from 0..255 to 0..1.0\n",
    "test_images  = test_images  / 255.0 \n",
    "class_names = ['0', '1', '2', '3', '4', '5', '6', '7', '8', '9']"
   ]
  },
  {
   "cell_type": "markdown",
   "metadata": {},
   "source": [
    "Let's take a look at what some of these handwritten digits look like. This python code plots 25 of them in a 5x5 grid. In the middle of the loop you can switch between which=i and which=random... to control which 25 get displayed.\n",
    "\n",
    "If you display enough random digits, can you find some that look ambiguous and might be difficult? Make a note of the index, we can see later how the network did."
   ]
  },
  {
   "cell_type": "code",
   "execution_count": null,
   "metadata": {},
   "outputs": [],
   "source": [
    "# This cell shows 5x5 training images (first 25 or random 25)\n",
    "plt.figure(figsize=(10,10))# 10x10 'inches'?\n",
    "for i in range(25):        # i = 0...24\n",
    "    plt.subplot(5,5, i+1)  # in a 5x5 grid, setup subplot 1...25\n",
    "    plt.xticks([])         # don't use xticks, yticks, or grid\n",
    "    plt.yticks([])\n",
    "    plt.grid(False)\n",
    "    which = i                                       # show the ith training image\n",
    "    #which = random.randint(0,len(train_images)-1)  # show a random image\n",
    "    plt.imshow(train_images[which], cmap=plt.cm.binary) # show image in plot\n",
    "    caption = 'train[{}] is a {}'.format(which, train_labels[which])\n",
    "    plt.xlabel(caption)        # caption with corresp. label\n",
    "plt.show()  # after all 25 subplots are set up, show the plot"
   ]
  },
  {
   "cell_type": "markdown",
   "metadata": {},
   "source": [
    "This is where we set up the structure of the neural network. And run the training\n",
    "\n",
    "The first Flatten layer maps the individual pixel values from their 28x28 grid to an array of 784 values.\n",
    "\n",
    "The next layer is Dense, which means an arc from each of the 784 first-layer nodes, to every 2nd-layer nodes. 'relu' is the most common 'activation function', and all it does is check whether the sum of scaled/biased inputs is positive or not. If it is positive, it 'fires' by outputting that value. If it is negative, it doesn't fire.\n",
    "\n",
    "The final layer (also dense) must have 10 nodes, because we are classifying the 10 different digits. 'softmax' takes the 10 numerical values that accumulate in the 10 nodes, and rescales them so they are positive and sum to 1. This way we can interpret them as probabilities.\n",
    "\n",
    "Note for the middle layer we can choose more or fewer nodes, but the outer layers have to fit the input and output. Also we could add more intermediate layers."
   ]
  },
  {
   "cell_type": "code",
   "execution_count": null,
   "metadata": {},
   "outputs": [],
   "source": [
    "# Model architecture\n",
    "model = keras.Sequential([\n",
    "    keras.layers.Flatten(input_shape=(28, 28)),\n",
    "    keras.layers.Dense(10, activation='relu'),\n",
    "    keras.layers.Dense(10, activation='softmax')\n",
    "])\n",
    "\n",
    "# 'compile' basically means get ready to run\n",
    "model.compile(optimizer='adam',\n",
    "             loss='sparse_categorical_crossentropy',\n",
    "             metrics=['accuracy'])\n",
    "\n",
    "# This is where the computation (evaluation of models in the candidate network, comparison to truth results,\n",
    "# and back-propagation from the errors to update the coefficients)\n",
    "model.fit(train_images, \n",
    "          train_labels, \n",
    "          epochs=1)     # More epochs can be added until it converges (stops improving)"
   ]
  },
  {
   "cell_type": "markdown",
   "metadata": {},
   "source": [
    "Now that the model is trained (the network coefficients have been fit to the training data), we test it by evaluating on the test images it has never seen."
   ]
  },
  {
   "cell_type": "code",
   "execution_count": null,
   "metadata": {},
   "outputs": [],
   "source": [
    "test_loss, test_acc = model.evaluate(test_images, test_labels, verbose=2)\n",
    "predictions = model.predict(test_images)"
   ]
  },
  {
   "cell_type": "markdown",
   "metadata": {},
   "source": [
    "Now that we have applied the trained model to predict classifications for all the test data, let's take a look at a few to see how they compare to truth (the provided labels).\n",
    "\n",
    "Set i to a different number and run the following cells to investigate.\n",
    "\n",
    "This first cell looks at the predictions array (the 10 numbers in the final layer of the network, after pushing the image through). The largest value is what digit is predicted."
   ]
  },
  {
   "cell_type": "code",
   "execution_count": null,
   "metadata": {},
   "outputs": [],
   "source": [
    "i=0    # i=0 is the first test image (python always counts starting from 0 not 1)\n",
    "\n",
    "preds = predictions[i]\n",
    "print('Predictions:', preds)\n",
    "ansa = test_labels[i]\n",
    "pred = np.argmax(preds)\n",
    "print('Correct answer is',      ansa)\n",
    "print('Largest prediction is:', pred)\n",
    "if pred == ansa:\n",
    "    print('Prediction is correct')\n",
    "else:\n",
    "    print('WRONG')"
   ]
  },
  {
   "cell_type": "markdown",
   "metadata": {},
   "source": [
    "This cell shows the image for test data i. Does it look like the prediction? If the prediction is wrong, does it make sense why it could have chosen that wrong prediction?"
   ]
  },
  {
   "cell_type": "code",
   "execution_count": null,
   "metadata": {},
   "outputs": [],
   "source": [
    "plt.figure(figsize=(2,2)) # 2x2 inches\n",
    "plt.grid(False)\n",
    "plt.xticks([])\n",
    "plt.yticks([])\n",
    "plt.imshow(test_images[i], cmap=plt.cm.binary)\n",
    "plt.show()"
   ]
  },
  {
   "cell_type": "markdown",
   "metadata": {},
   "source": [
    "This cell plots the predictions as a bar graph"
   ]
  },
  {
   "cell_type": "code",
   "execution_count": null,
   "metadata": {},
   "outputs": [],
   "source": [
    "plt.figure(figsize=(2,2))\n",
    "plt.grid(False)\n",
    "plt.xticks(range(10)) # xticks at 0,1,...9, matching the digit labels\n",
    "plt.yticks([])\n",
    "barplot = plt.bar(range(10), preds)"
   ]
  },
  {
   "cell_type": "markdown",
   "metadata": {},
   "source": [
    "Repeat the cells above, setting i to a different index (any of the test images 0...9999), looking at the results for various test data."
   ]
  },
  {
   "cell_type": "markdown",
   "metadata": {},
   "source": [
    "Below is more complex code that graphs a large number of test results, with the bar graph red to highlight wrong answers."
   ]
  },
  {
   "cell_type": "code",
   "execution_count": null,
   "metadata": {},
   "outputs": [],
   "source": [
    "# This function plots one image with a blue or red caption\n",
    "def plot_image(i, predictions_array, true_label, img):\n",
    "  plt.grid(False)\n",
    "  plt.xticks([])\n",
    "  plt.yticks([])\n",
    "\n",
    "  plt.imshow(img, cmap=plt.cm.binary)\n",
    "\n",
    "  predicted_label = np.argmax(predictions_array)\n",
    "  if predicted_label == true_label:\n",
    "    color = 'blue'\n",
    "  else:\n",
    "    color = 'red'\n",
    "\n",
    "  plt.xlabel(\"test {} {:2.0f}% ({})\".format(i,\n",
    "                                100*np.max(predictions_array),\n",
    "                                class_names[true_label]),\n",
    "                                color=color)"
   ]
  },
  {
   "cell_type": "code",
   "execution_count": null,
   "metadata": {},
   "outputs": [],
   "source": [
    "# This function plots the corresponding bar graph, red if it's wrong\n",
    "def plot_value_array(i, predictions_array, true_label):\n",
    "  predictions_array, true_label = predictions_array, true_label[i]\n",
    "  plt.grid(False)\n",
    "  plt.xticks(range(10))\n",
    "  plt.yticks([])\n",
    "  thisplot = plt.bar(range(10), predictions_array, color=\"#777777\")\n",
    "  plt.ylim([0, 1])\n",
    "  predicted_label = np.argmax(predictions_array)\n",
    "\n",
    "  thisplot[predicted_label].set_color('red')\n",
    "  thisplot[true_label].set_color('blue')"
   ]
  },
  {
   "cell_type": "code",
   "execution_count": null,
   "metadata": {},
   "outputs": [],
   "source": [
    "# This uses the functions above to graph images and bar graphs in a grid.\n",
    "# In the middle again choose either which=i for the first results, or which=random\n",
    "num_rows=6\n",
    "num_cols=4\n",
    "num_images = num_rows*num_cols\n",
    "plt.figure(figsize=(2*2*num_cols, 2*num_rows))\n",
    "for i in range(num_images):\n",
    "    which = i\n",
    "    #which = random.randint(0, len(test_images)-1)\n",
    "    plt.subplot(num_rows, 2*num_cols, 2*i+1)\n",
    "    plot_image(which, predictions[which], test_labels[which], test_images[which])\n",
    "    plt.subplot(num_rows, 2*num_cols, 2*i+2)\n",
    "    plot_value_array(which, predictions[which], test_labels)\n",
    "plt.tight_layout()\n",
    "plt.show()"
   ]
  }
 ],
 "metadata": {
  "kernelspec": {
   "display_name": "Python 3",
   "language": "python",
   "name": "python3"
  },
  "language_info": {
   "codemirror_mode": {
    "name": "ipython",
    "version": 3
   },
   "file_extension": ".py",
   "mimetype": "text/x-python",
   "name": "python",
   "nbconvert_exporter": "python",
   "pygments_lexer": "ipython3",
   "version": "3.8.5"
  }
 },
 "nbformat": 4,
 "nbformat_minor": 4
}
