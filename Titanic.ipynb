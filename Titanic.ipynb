{
 "cells": [
  {
   "cell_type": "markdown",
   "metadata": {},
   "source": [
    "# Categorial Plotting with Seaborn\n",
    "\n",
    "We've had a fair bit of relational line and scatter plotting with 2D numerical data, but what about when data is not numerical but **categorical**, like male/female, public/charter/private, own/rent, ...? \n",
    "\n",
    "**Seaborn** is a popular graphing package built on top of matplotlib, which offers a suite of attractive, data-rich chart styles, including `catplot`. [This link is worth bookmarking for reference](https://seaborn.pydata.org/tutorial/categorical.html#categorical-tutorial). \n",
    "\n",
    "Let's import libraries and load up a dataset about the Titanic."
   ]
  },
  {
   "cell_type": "code",
   "execution_count": null,
   "metadata": {},
   "outputs": [],
   "source": [
    "import matplotlib.pyplot as plt\n",
    "import pandas  as pd\n",
    "import seaborn as sns # sns='Sam Norman Seaborn'\n",
    "# the creator of seaborn is a huge fan of the TV show 'West Wing'\n",
    "                 \n",
    "t3 = pd.read_csv('https://raw.githubusercontent.com/RubeRad/camcom/master/titanic3.csv')\n",
    "t3.info()"
   ]
  },
  {
   "cell_type": "code",
   "execution_count": null,
   "metadata": {
    "scrolled": false
   },
   "outputs": [],
   "source": [
    "t3.head()"
   ]
  },
  {
   "cell_type": "markdown",
   "metadata": {},
   "source": [
    "Take a moment to read those first 5 rows.\n",
    "\n",
    "Row 0 is an unmarried woman, 29 years old, traveling alone, 1st class, who survived.\n",
    "\n",
    "The next 4 rows are a family of 4, the Allisons: 2 parents, a 2-year old daughter and under 1 year old son (all traveling with #siblings/spouses=2 and #parents/children=2). Only the baby boy survived.\n",
    "\n",
    "There are a couple ways to get some total survival statistics:"
   ]
  },
  {
   "cell_type": "code",
   "execution_count": null,
   "metadata": {},
   "outputs": [],
   "source": [
    "t3['survived'].value_counts()"
   ]
  },
  {
   "cell_type": "code",
   "execution_count": null,
   "metadata": {},
   "outputs": [],
   "source": [
    "survived = t3['survived'].sum()   # sum of 500 ones (and 809 zeroes)\n",
    "total    = t3['survived'].count() # 1309\n",
    "died = total - survived           # 809\n",
    "diepct =     (died/total)*100\n",
    "livpct = (survived/total)*100"
   ]
  },
  {
   "cell_type": "code",
   "execution_count": null,
   "metadata": {},
   "outputs": [],
   "source": [
    "plt.figure()\n",
    "plt.gca().set_ylabel('Percent')\n",
    "plt.bar(  ['Died','Survived'],   # array of categories\n",
    "          [diepct, livpct]    )  # array of bar heights\n",
    "plt.show()"
   ]
  },
  {
   "cell_type": "markdown",
   "metadata": {},
   "source": [
    "## Tufte Time\n",
    "How many pieces of data are displayed in that bar chart? What is the data ink ratio? This is why Tufte has a generally low opinion of bar charts."
   ]
  },
  {
   "cell_type": "code",
   "execution_count": null,
   "metadata": {},
   "outputs": [],
   "source": [
    "plt.figure()\n",
    "plt.gca().set_ylabel('Percent')\n",
    "plt.bar(['Died','Survived'], [diepct, livpct])\n",
    "plt.text(0.5, 35, 'LAME', ha='center', va='center',\n",
    "         rotation=45, c='r', size=75, fontdict={'weight':'bold'} )\n",
    "plt.show()"
   ]
  },
  {
   "cell_type": "markdown",
   "metadata": {},
   "source": [
    "## Seaborn `catplot`\n",
    "Let's examine Seaborn's categorical plotting on another dataset and come back to apply what we've learned to the Titanic.\n",
    "\n",
    "We use the dataset 'Tips', which is an educational standard. Who are better tippers -- men/women? smokers/non? Weekday/weekend/lunch/dinner diners? Small/large parties?"
   ]
  },
  {
   "cell_type": "code",
   "execution_count": null,
   "metadata": {},
   "outputs": [],
   "source": [
    "tips = sns.load_dataset('tips')\n",
    "tips.info()"
   ]
  },
  {
   "cell_type": "code",
   "execution_count": null,
   "metadata": {},
   "outputs": [],
   "source": [
    "tips.head()"
   ]
  },
  {
   "cell_type": "markdown",
   "metadata": {},
   "source": [
    "Let's add another column:"
   ]
  },
  {
   "cell_type": "code",
   "execution_count": null,
   "metadata": {},
   "outputs": [],
   "source": [
    "tips['pct'] = tips['tip'] / tips['total_bill'] * 100\n",
    "tips.info()\n",
    "tips['pct'].describe()"
   ]
  },
  {
   "cell_type": "markdown",
   "metadata": {},
   "source": [
    "Seaborn's `catplot` takes categorical data as the x axis, and numerical data as the y axis (or the other way around!)\n"
   ]
  },
  {
   "cell_type": "code",
   "execution_count": null,
   "metadata": {},
   "outputs": [],
   "source": [
    "sns.catplot(x='sex', y='pct', data=tips, kind='swarm')"
   ]
  },
  {
   "cell_type": "markdown",
   "metadata": {},
   "source": [
    "## Exercise\n",
    "The default kind of catplot is 'strip'. Try regraphing with other kinds: 'swarm', 'box', 'boxen', 'violin', 'point', 'bar', 'count'.\n",
    "\n",
    "Also try swapping x and y."
   ]
  },
  {
   "cell_type": "markdown",
   "metadata": {},
   "source": [
    "## Another dimension\n",
    "It's always better to display more dimensions of data. Seaborn can include a third dimension by varying color with 'hue'"
   ]
  },
  {
   "cell_type": "code",
   "execution_count": null,
   "metadata": {},
   "outputs": [],
   "source": [
    "sns.catplot(x='time', y='pct', hue='day', data=tips, kind='swarm')"
   ]
  },
  {
   "cell_type": "markdown",
   "metadata": {},
   "source": [
    "## Exercise\n",
    "* Try different kinds (strip, swarm, box, boxen, violin)\n",
    "* Try adding the option dodge=True\n",
    "* Try swapping x and hue\n",
    "What combination is more informative?"
   ]
  },
  {
   "cell_type": "markdown",
   "metadata": {},
   "source": [
    "## Another dimension\n",
    "It's always better to display more dimensions of data. Seaborn can include a fourth (and fifth?) dimension by placing multiple plots side-by-side"
   ]
  },
  {
   "cell_type": "code",
   "execution_count": null,
   "metadata": {},
   "outputs": [],
   "source": [
    "sns.catplot(x='sex', y='pct', hue='day', col='smoker', row='time', data=tips)"
   ]
  },
  {
   "cell_type": "markdown",
   "metadata": {},
   "source": [
    "## Exercise\n",
    "* Try col='smoker' and/or row='time'"
   ]
  },
  {
   "cell_type": "markdown",
   "metadata": {},
   "source": [
    "# Back to the Titanic\n",
    "\n",
    "Just like we made an additional useful column `pct` in Tips, let's make an additional useful column in Titanic"
   ]
  },
  {
   "cell_type": "code",
   "execution_count": null,
   "metadata": {},
   "outputs": [],
   "source": [
    "t3.loc[t3.sex=='male', 'who'] = 'Man'\n",
    "t3['who'].value_counts()"
   ]
  },
  {
   "cell_type": "code",
   "execution_count": null,
   "metadata": {},
   "outputs": [],
   "source": [
    "t3.loc[t3.sex=='female', 'who'] = 'Woman'\n",
    "t3['who'].value_counts()"
   ]
  },
  {
   "cell_type": "code",
   "execution_count": null,
   "metadata": {},
   "outputs": [],
   "source": [
    "t3.loc[t3.age<=16, 'who'] = 'Child'\n",
    "t3['who'].value_counts()"
   ]
  },
  {
   "cell_type": "code",
   "execution_count": null,
   "metadata": {},
   "outputs": [],
   "source": [
    "t3.info()"
   ]
  },
  {
   "cell_type": "markdown",
   "metadata": {},
   "source": [
    "## Exercise\n",
    "Look at those columns there, a few of them can be plotted numerically (age, fare), many are interesting categorically (survived, pclass, sex, who)\n",
    "\n",
    "Use `sns.catplot` and choose Series for x, y, hue, row and/or col, as well as a plot kind, and optionally dodge=True.\n",
    "\n",
    "Which configuration does the best job revealing a pattern of who is most likely to survive?"
   ]
  },
  {
   "cell_type": "code",
   "execution_count": null,
   "metadata": {},
   "outputs": [],
   "source": [
    "sns.catplot(x='who', y='age', hue='survived', data=t3, kind='swarm', col='pclass',\n",
    "           palette={0:'k',1:'lightgreen'})"
   ]
  },
  {
   "cell_type": "code",
   "execution_count": null,
   "metadata": {},
   "outputs": [],
   "source": [
    "wapoALL = pd.read_csv('https://corgis-edu.github.io/corgis/datasets/csv/police_shootings/police_shootings.csv')"
   ]
  },
  {
   "cell_type": "code",
   "execution_count": null,
   "metadata": {},
   "outputs": [],
   "source": [
    "wapoALL = pd.read_csv('https://corgis-edu.github.io/corgis/datasets/csv/police_shootings/police_shootings.csv')\n",
    "wapo = wapoALL[wapoALL['Incident.Date.Year']==2016]\n",
    "wapo4 = wapo[wapo['Factors.Armed'].isin(['gun', 'knife', 'toy weapon', 'unarmed'])]\n",
    "wapo4['Factors.Armed'].value_counts()"
   ]
  },
  {
   "cell_type": "code",
   "execution_count": null,
   "metadata": {},
   "outputs": [],
   "source": [
    "wapo.info()\n",
    "wapo['Factors.Fleeing'].value_counts()"
   ]
  },
  {
   "cell_type": "code",
   "execution_count": null,
   "metadata": {},
   "outputs": [],
   "source": [
    "wapo4 = wapo[wapo['Factors.Armed'].isin(['gun', 'knife', 'toy weapon', 'unarmed'])]\n",
    "wapo4['Factors.Armed'].value_counts()"
   ]
  },
  {
   "cell_type": "code",
   "execution_count": null,
   "metadata": {},
   "outputs": [],
   "source": [
    "wapo4['Factors.Armed'].value_counts()"
   ]
  },
  {
   "cell_type": "code",
   "execution_count": null,
   "metadata": {},
   "outputs": [],
   "source": [
    "sns.catplot(x='Factors.Armed', y='Person.Age', data=wapo4, kind='strip')"
   ]
  },
  {
   "cell_type": "code",
   "execution_count": null,
   "metadata": {},
   "outputs": [],
   "source": []
  }
 ],
 "metadata": {
  "kernelspec": {
   "display_name": "Python 3",
   "language": "python",
   "name": "python3"
  },
  "language_info": {
   "codemirror_mode": {
    "name": "ipython",
    "version": 3
   },
   "file_extension": ".py",
   "mimetype": "text/x-python",
   "name": "python",
   "nbconvert_exporter": "python",
   "pygments_lexer": "ipython3",
   "version": "3.8.5"
  }
 },
 "nbformat": 4,
 "nbformat_minor": 4
}
