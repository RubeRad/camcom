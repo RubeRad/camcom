{
 "cells": [
  {
   "cell_type": "markdown",
   "metadata": {},
   "source": [
    "# Introduction to Python, Jupyter, and Matplotlib\n",
    "This is a Jupyter Python notebook, which is a collection of cells. Each cell is either of type 'markdown' (formatted text, like this cell) or code (python, grey background). The two most important rules of Jupyter Notebooks are:\n",
    "1. ***SHIFT-ENTER*** will cause the current cell to execute. \n",
    "  - For Markdown cells, 'execute' means render the formatting. ([Here's a markdown cheatsheet](https://sqlbak.com/blog/wp-content/uploads/2020/04/Jupyter-Notebook-Markdown-Cheatsheet.pdf))\n",
    "  - For Code cells, 'execute' means run the python.\n",
    "  - Some Code cells take a while to execute, watch for the * to change to a number\n",
    "1. Any cell can be edited (double-click into it) and re-executed (SHIFT-ENTER again).\n",
    "--- \n",
    "The first code in any Python script/Jupyter notebook, needs to import any libraries that will be used. The `as` directives allow specification of nicknames that are more convenient to type."
   ]
  },
  {
   "cell_type": "code",
   "execution_count": null,
   "metadata": {},
   "outputs": [],
   "source": [
    "import numpy             as np    # all kinds of numerical and matrix capabilities in here\n",
    "import matplotlib.pyplot as plt   # this is the only nonstandard library we need for this notebook"
   ]
  },
  {
   "cell_type": "markdown",
   "metadata": {},
   "source": [
    "The cell below creates a variable `xs` and puts a list of numbers into it. The syntax (punctuation) is very important to get right. This is equivalent to 'Make a variable' named `xs` in Snap! and then `(set xs to (list ...))`"
   ]
  },
  {
   "cell_type": "code",
   "execution_count": null,
   "metadata": {},
   "outputs": [],
   "source": [
    "exes = [10, 8, 13, 9, 11, 14, 6, 4, 12, 7, 5]"
   ]
  },
  {
   "cell_type": "markdown",
   "metadata": {},
   "source": [
    "One thing you can do it Jupyter Notebooks that you can't do in regular Python scripts (programs), is to just mention something at the end of a code cell, which is a request for the notebook to display it."
   ]
  },
  {
   "cell_type": "code",
   "execution_count": null,
   "metadata": {},
   "outputs": [],
   "source": [
    "exes"
   ]
  },
  {
   "cell_type": "markdown",
   "metadata": {},
   "source": [
    "Python has a function called `len()`, which unsurprisingly returns the length of a list (just like in the Snap! Variables palette there's a `(length of list)` block -- *all programming languages are essentially the same like this*)"
   ]
  },
  {
   "cell_type": "code",
   "execution_count": null,
   "metadata": {},
   "outputs": [],
   "source": [
    "len(exes)"
   ]
  },
  {
   "cell_type": "markdown",
   "metadata": {},
   "source": [
    "Double-click into this next cell and change the index to different values to see what happens. Can you break it?"
   ]
  },
  {
   "cell_type": "code",
   "execution_count": null,
   "metadata": {},
   "outputs": [],
   "source": [
    "exes[0]"
   ]
  },
  {
   "cell_type": "code",
   "execution_count": null,
   "metadata": {},
   "outputs": [],
   "source": [
    "wise = [8.04, 6.95, 7.58, 8.81, 8.33, 9.96, 7.24, 4.26, 10.84, 4.82, 5.68]"
   ]
  },
  {
   "cell_type": "code",
   "execution_count": null,
   "metadata": {},
   "outputs": [],
   "source": [
    "wise"
   ]
  },
  {
   "cell_type": "markdown",
   "metadata": {},
   "source": [
    "Now that we have (matching-length) exes and wise to graph, we can use matplotlib to graph them. Here's probably the simplest possible graph. (Note that a code cell can have multiple commands in it)"
   ]
  },
  {
   "cell_type": "code",
   "execution_count": null,
   "metadata": {},
   "outputs": [],
   "source": [
    "plt.figure()             # always start a new graph with plt.figure() to clear away anything previous\n",
    "plt.plot(exes, wise)     # plot() makes an X/Y plot; other functions include scatter(), bar(), ...\n",
    "plt.show()               # when all setup is done, this causes the plot to render"
   ]
  },
  {
   "cell_type": "markdown",
   "metadata": {},
   "source": [
    "That's not too useful, because the default behavior of `plot()` is a line graph. Let's take a quick look at a default scatterplot:"
   ]
  },
  {
   "cell_type": "code",
   "execution_count": null,
   "metadata": {},
   "outputs": [],
   "source": [
    "plt.figure()             # same as before\n",
    "plt.scatter(exes, wise)  # use the function scatter() instead of plot()\n",
    "plt.show()               # same as before"
   ]
  },
  {
   "cell_type": "markdown",
   "metadata": {},
   "source": [
    "Let's go back to `plot()` though, to learn about options to control appearance.\n",
    "\n",
    "In this command, `exes, wise` are **positional** arguments, plot knows what to do with them based on what order they are in at the front.\n",
    "\n",
    "The rest are all **named**, optional arguments. They can be present or absent, in any order. But they are all of the form name=value (and text values get quotes).\n",
    "\n",
    "All parameters, whether positional or named, are separated by commas."
   ]
  },
  {
   "cell_type": "code",
   "execution_count": null,
   "metadata": {},
   "outputs": [],
   "source": [
    "plt.figure()\n",
    "plt.plot(exes, wise,   # Long lines can be continued, but they should be indented\n",
    "         color='red',       # Note for each of these named parameters, the input parameter name is NOT in quotes\n",
    "         linestyle='solid', # Input values which are text MUST be in quotes, it can be '' or \"\"\n",
    "         linewidth=1,       # Input values which are numbers do not get quotes, that would turn them into text\n",
    "         marker='o',        # Also it is important to have commas after each parameter\n",
    "         markersize=10,     \n",
    "         markeredgecolor='g',\n",
    "         markeredgewidth=3,\n",
    "         markerfacecolor='k') # plot's argument list opened with a (, and at the end must close with a matching )   \n",
    "plt.show()"
   ]
  },
  {
   "cell_type": "markdown",
   "metadata": {},
   "source": [
    "Many `plot()` input parameters have convenient nicknames, as do the values that can be passed into them. The one line plot command below is the same as the multiline one above:"
   ]
  },
  {
   "cell_type": "code",
   "execution_count": null,
   "metadata": {},
   "outputs": [],
   "source": [
    "plt.figure()\n",
    "plt.plot(exes, wise, c='r', ls='-', lw=1, marker='o', ms=10, mec='g', mew=3, mfc='k')\n",
    "plt.show()"
   ]
  },
  {
   "cell_type": "markdown",
   "metadata": {},
   "source": [
    "Experiment with the plot above by testing various types of (don't forget quotes as appropriate):\n",
    "* colors: r g b k y c m purple orange teal darkgreen ...\n",
    "* linestyle: `'' -  --  -.  :` or `'None', 'solid'`\n",
    "* marker: . , o + x * s d v ^ < > \n",
    "* sizes: 1, 3.5, ...\n",
    "\n",
    "Keep this link handy for a reminder of what's available: https://matplotlib.org/2.1.1/api/_as_gen/matplotlib.pyplot.plot.html"
   ]
  },
  {
   "cell_type": "markdown",
   "metadata": {},
   "source": [
    "### Multiple Series\n",
    "Now let's add a second set of y values for the same x values:"
   ]
  },
  {
   "cell_type": "code",
   "execution_count": null,
   "metadata": {},
   "outputs": [],
   "source": [
    "whys = [9.14, 8.14, 8.74, 8.77, 9.26, 8.10, 6.13, 3.10, 9.13, 7.26, 4.74]"
   ]
  },
  {
   "cell_type": "markdown",
   "metadata": {},
   "source": [
    "Additional data series can be added with additional `plot()` commands, and their appearance can be controlled separately:"
   ]
  },
  {
   "cell_type": "code",
   "execution_count": null,
   "metadata": {},
   "outputs": [],
   "source": [
    "plt.figure()\n",
    "plt.plot(exes, wise, c='b', marker='o', ls='')\n",
    "plt.plot(exes, whys, c='g', marker='^', ls='')\n",
    "plt.show()"
   ]
  },
  {
   "cell_type": "markdown",
   "metadata": {},
   "source": [
    "Data series don't have to be explicitly spelled out, they can be functional."
   ]
  },
  {
   "cell_type": "code",
   "execution_count": null,
   "metadata": {},
   "outputs": [],
   "source": [
    "# In Python, range intervals are always Inclusive on the left side, and Exclusive on the right side,\n",
    "# so this ends up [3.5, 4.0, 4.5, ... 14.5]\n",
    "xrange = np.arange(3.5, 15.0, 0.5)"
   ]
  },
  {
   "cell_type": "markdown",
   "metadata": {},
   "source": [
    "We choose this range because exes is from 4...14, so 3.5...14.5 will give a line that nicely extrapolates a little bit. Let's take a look at it:"
   ]
  },
  {
   "cell_type": "code",
   "execution_count": null,
   "metadata": {},
   "outputs": [],
   "source": [
    "xrange"
   ]
  },
  {
   "cell_type": "markdown",
   "metadata": {},
   "source": [
    "`numpy` allows us to arithmetically manipulate all the values in this array at once. Check these out:"
   ]
  },
  {
   "cell_type": "code",
   "execution_count": null,
   "metadata": {},
   "outputs": [],
   "source": [
    "xrange*2"
   ]
  },
  {
   "cell_type": "code",
   "execution_count": null,
   "metadata": {},
   "outputs": [],
   "source": [
    "xrange*2 - 5"
   ]
  },
  {
   "cell_type": "code",
   "execution_count": null,
   "metadata": {},
   "outputs": [],
   "source": [
    "-1.5*xrange*xrange + 0.5*xrange + 3"
   ]
  },
  {
   "cell_type": "code",
   "execution_count": null,
   "metadata": {},
   "outputs": [],
   "source": [
    "plt.figure()\n",
    "plt.plot(exes, wise, c='b', marker='o', ls='')\n",
    "plt.plot(exes, whys, c='g', marker='^', ls='')\n",
    "plt.plot(xrange,   1.5*xrange - 1,                  c='b', ls=':')  # plot the line  y = 1.5x - 1\n",
    "plt.plot(xrange, -.127*xrange*xrange + 2.78*xrange, c='g', ls=':')  # plot the curve y = -0.127x^2 + 2.78x\n",
    "plt.show()"
   ]
  },
  {
   "cell_type": "markdown",
   "metadata": {},
   "source": [
    "# Exercise\n",
    "In the plot above, fiddle with the coefficients of the line and the curve to get them to fit the data better\n",
    "\n",
    "---\n",
    "\n",
    "### Labeling\n",
    "Matplotlib has many options for controlling the appearance of graphs beyond the data series themselves."
   ]
  },
  {
   "cell_type": "code",
   "execution_count": null,
   "metadata": {},
   "outputs": [],
   "source": [
    "fig = plt.figure()          # before we have always ignored the object returned by plt.figure()\n",
    "ax  = fig.add_subplot(111)  # this time we need it to get an 'Axes' object. 111 means 1x1 grid, subplot number 1\n",
    "plt.plot(exes, wise, c='b', marker='o', ls='')\n",
    "plt.plot(exes, whys, c='g', marker='^', ls='')\n",
    "ax.set_title('Cambridge students need more work')\n",
    "ax.set_xlabel('Weekly hours of homework per class')\n",
    "ax.set_ylabel('Educational effectiveness')\n",
    "ax.set_xlim(0, 20)          # These are bad choices!\n",
    "ax.set_ylim(0, 15)\n",
    "ax.set_xticks( exes )\n",
    "ax.set_yticks( [2, 3.14, 5, 6, 12] )\n",
    "ax.legend(['actual', 'expected'], \n",
    "          loc='lower right') # Usually you don't need this option\n",
    "plt.plot([4.5], [4], marker='x', c='r', ms=10)\n",
    "plt.annotate('We are here', (4.5, 4), xytext=(7,3), color='r',\n",
    "             arrowprops=dict(arrowstyle=\"->\", color='r') )     # this is a bundle of properties for the arrow\n",
    "plt.show()"
   ]
  },
  {
   "cell_type": "markdown",
   "metadata": {},
   "source": [
    "### Subplots\n",
    "A figure can be a grid of multiple subplots"
   ]
  },
  {
   "cell_type": "code",
   "execution_count": null,
   "metadata": {},
   "outputs": [],
   "source": [
    "# Two more datasets for 'Anscombe's Quartet'\n",
    "wyes = [7.46, 6.77, 12.74, 7.11, 7.81, 8.84, 6.08, 5.39, 8.15, 6.42, 5.73] # this 3rd one also uses x=exes\n",
    "\n",
    "x4 = [8,    8,    8,    8,    8,    8,    8,    19,    8,    8,    8]\n",
    "y4 = [6.58, 5.76, 7.71, 8.84, 8.47, 7.04, 5.25, 12.50, 5.56, 7.91, 6.89]"
   ]
  },
  {
   "cell_type": "code",
   "execution_count": null,
   "metadata": {},
   "outputs": [],
   "source": [
    "fig = plt.figure(figsize=(15,12))   # size in 'inches', width, height\n",
    "\n",
    "axI = fig.add_subplot(221)          # there are going to be 2x2, this is the first 1 (upper left)\n",
    "axI.plot(exes, wise, c='b', marker='o', ls='')\n",
    "axI.set_title('I: Linear scatter')\n",
    "\n",
    "axII = fig.add_subplot(222)         #                        ... this is subplot 2 (upper right)\n",
    "axII.plot(exes, whys, c='r', marker='s', ls='')\n",
    "axII.set_title('II: Quadratic curve')\n",
    "\n",
    "axIII = fig.add_subplot(223)        #                        ... this is subplot 3 (next row)\n",
    "axIII.plot(exes, wyes, c='g', marker='^', ls='')\n",
    "axIII.set_title('III: Line with outlier')\n",
    "\n",
    "axIV = fig.add_subplot(224)        #                        ... this is subplot 4 (last one)\n",
    "axIV.plot(x4, y4, c='orange', marker='^', ls='')\n",
    "axIV.set_title('IV: Line with really bad outlier')\n",
    "\n",
    "plt.show()"
   ]
  },
  {
   "cell_type": "markdown",
   "metadata": {},
   "source": [
    "# Exercise\n",
    "The four subplots in the figure above are called [Anscombe's Quartet](https://en.wikipedia.org/wiki/Anscombe%27s_quartet). If you use linear regression to solve for the least-squares best-fit line through all four of those datasets, the result is identical. Graphs III and IV in particular illustrate the influence of outliers in datasets (and thus the importance of removing justifiable outliers before analysis).\n",
    "\n",
    "**Add that best-fit line (y=0.5x+3) to each of the four subplots above. Make them look good** (color, linestyle, range). In particular, IV will need a different xrange than I-III. Don't reuse the variable name xrange, or it will mess up I-III.\n",
    "\n",
    "Once your plot is done, File/Download As/.ipynb, and submit that file."
   ]
  }
 ],
 "metadata": {
  "kernelspec": {
   "display_name": "Python 3",
   "language": "python",
   "name": "python3"
  },
  "language_info": {
   "codemirror_mode": {
    "name": "ipython",
    "version": 3
   },
   "file_extension": ".py",
   "mimetype": "text/x-python",
   "name": "python",
   "nbconvert_exporter": "python",
   "pygments_lexer": "ipython3",
   "version": "3.8.5"
  }
 },
 "nbformat": 4,
 "nbformat_minor": 4
}
