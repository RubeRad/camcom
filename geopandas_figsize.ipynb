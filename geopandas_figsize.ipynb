{
 "cells": [
  {
   "cell_type": "code",
   "execution_count": null,
   "metadata": {},
   "outputs": [],
   "source": [
    "!pip install geopandas # necessary for Colab"
   ]
  },
  {
   "cell_type": "code",
   "execution_count": null,
   "metadata": {},
   "outputs": [],
   "source": [
    "import matplotlib.pyplot as plt\n",
    "import geopandas as gpd   "
   ]
  },
  {
   "cell_type": "code",
   "execution_count": null,
   "metadata": {},
   "outputs": [],
   "source": [
    "world = gpd.read_file(gpd.datasets.get_path('naturalearth_lowres'))\n",
    "sixc = world[ world['continent'] != 'Antarctica' ]\n",
    "asia = world[ world['continent'] == 'Asia' ]\n",
    "noam = world[ world['continent'] == 'North America']\n",
    "swed = world[ world['iso_a3'] == 'SWE' ]"
   ]
  },
  {
   "cell_type": "markdown",
   "metadata": {},
   "source": [
    "# This works"
   ]
  },
  {
   "cell_type": "code",
   "execution_count": null,
   "metadata": {
    "scrolled": false
   },
   "outputs": [],
   "source": [
    "axes = sixc.plot(figsize=(8,4), color='lightgrey')\n",
    "asia.plot(ax=axes, color='green')\n",
    "noam.plot(ax=axes, color='purple')"
   ]
  },
  {
   "cell_type": "markdown",
   "metadata": {},
   "source": [
    "# But adding another plot to the end breaks the figsize\n",
    "Is it because the swed dataframe has only 1 row?\n",
    "Is it because geopandas is racist against the Swedish?"
   ]
  },
  {
   "cell_type": "code",
   "execution_count": null,
   "metadata": {},
   "outputs": [],
   "source": [
    "axes = sixc.plot(figsize=(8,4), color='lightgrey')\n",
    "asia.plot(ax=axes, color='green')\n",
    "noam.plot(ax=axes, color='purple')\n",
    "swed.plot(ax=axes, color='yellow')"
   ]
  },
  {
   "cell_type": "markdown",
   "metadata": {},
   "source": [
    "# But moving it into the middle makes it work again!"
   ]
  },
  {
   "cell_type": "code",
   "execution_count": null,
   "metadata": {},
   "outputs": [],
   "source": [
    "axes = sixc.plot(figsize=(8,4), color='lightgrey')\n",
    "asia.plot(ax=axes, color='green')\n",
    "swed.plot(ax=axes, color='yellow')\n",
    "noam.plot(ax=axes, color='purple')"
   ]
  },
  {
   "cell_type": "code",
   "execution_count": null,
   "metadata": {},
   "outputs": [],
   "source": []
  }
 ],
 "metadata": {
  "kernelspec": {
   "display_name": "Python 3",
   "language": "python",
   "name": "python3"
  },
  "language_info": {
   "codemirror_mode": {
    "name": "ipython",
    "version": 3
   },
   "file_extension": ".py",
   "mimetype": "text/x-python",
   "name": "python",
   "nbconvert_exporter": "python",
   "pygments_lexer": "ipython3",
   "version": "3.8.5"
  }
 },
 "nbformat": 4,
 "nbformat_minor": 4
}
